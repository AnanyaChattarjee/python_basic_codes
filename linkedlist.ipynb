{
 "cells": [
  {
   "cell_type": "code",
   "execution_count": 1,
   "id": "aa15f633",
   "metadata": {},
   "outputs": [
    {
     "name": "stdout",
     "output_type": "stream",
     "text": [
      "10 -> 20 -> 30 -> 40 -> None\n",
      "10 -> 30 -> 40 -> None\n",
      "Error: Index out of range\n"
     ]
    }
   ],
   "source": [
    "class Node:\n",
    "    def __init__(self, data):\n",
    "        self.data = data\n",
    "        self.next = None\n",
    "\n",
    "class LinkedList:\n",
    "    def __init__(self):\n",
    "        self.head = None\n",
    "\n",
    "    def add_node(self, data):\n",
    "        new_node = Node(data)\n",
    "        if not self.head:\n",
    "            self.head = new_node\n",
    "            return\n",
    "        current = self.head\n",
    "        while current.next:\n",
    "            current = current.next\n",
    "        current.next = new_node\n",
    "\n",
    "    def print_list(self):\n",
    "        current = self.head\n",
    "        if not current:\n",
    "            print(\"List is empty\")\n",
    "            return\n",
    "        while current:\n",
    "            print(current.data, end=\" -> \")\n",
    "            current = current.next\n",
    "        print(\"None\")\n",
    "\n",
    "    def delete_nth_node(self, n):\n",
    "        if not self.head:\n",
    "            raise IndexError(\"Cannot delete from an empty list\")\n",
    "        if n < 1:\n",
    "            raise IndexError(\"Index must be 1 or greater\")\n",
    "        if n == 1:\n",
    "            self.head = self.head.next\n",
    "            return\n",
    "        current = self.head\n",
    "        count = 1\n",
    "        while current and count < n - 1:\n",
    "            current = current.next\n",
    "            count += 1\n",
    "        if not current or not current.next:\n",
    "            raise IndexError(\"Index out of range\")\n",
    "        current.next = current.next.next\n",
    "\n",
    "linked_list = LinkedList()\n",
    "linked_list.add_node(10)\n",
    "linked_list.add_node(20)\n",
    "linked_list.add_node(30)\n",
    "linked_list.add_node(40)\n",
    "linked_list.print_list()\n",
    "\n",
    "try:\n",
    "    linked_list.delete_nth_node(2)\n",
    "    linked_list.print_list()\n",
    "    linked_list.delete_nth_node(10)\n",
    "except IndexError as e:\n",
    "    print(\"Error:\", e)\n"
   ]
  }
 ],
 "metadata": {
  "kernelspec": {
   "display_name": "Python 3",
   "language": "python",
   "name": "python3"
  },
  "language_info": {
   "codemirror_mode": {
    "name": "ipython",
    "version": 3
   },
   "file_extension": ".py",
   "mimetype": "text/x-python",
   "name": "python",
   "nbconvert_exporter": "python",
   "pygments_lexer": "ipython3",
   "version": "3.10.12"
  }
 },
 "nbformat": 4,
 "nbformat_minor": 5
}
